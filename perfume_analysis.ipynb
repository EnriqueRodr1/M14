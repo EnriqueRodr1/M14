{
 "cells": [
  {
   "cell_type": "markdown",
   "id": "9b49b7e9",
   "metadata": {},
   "source": [
    "# Análisis de Perfumes en eBay\n",
    "Este notebook realiza comparaciones entre perfumes disponibles en eBay."
   ]
  },
  {
   "cell_type": "code",
   "execution_count": null,
   "id": "aa5ec366",
   "metadata": {},
   "outputs": [],
   "source": [
    "import pandas as pd\n",
    "\n",
    "# Cargar el archivo CSV\n",
    "file_path = \"ebay_mens_perfume.csv\"  # Asegúrate de ubicar el archivo correctamente\n",
    "df = pd.read_csv(file_path)\n",
    "\n",
    "# Mostrar las primeras filas para entender la estructura\n",
    "df.head()\n"
   ]
  },
  {
   "cell_type": "markdown",
   "id": "2e61949b",
   "metadata": {},
   "source": [
    "## 1. Marca con el Perfume Más Caro vs. Más Barato"
   ]
  },
  {
   "cell_type": "code",
   "execution_count": null,
   "id": "4a9b2c70",
   "metadata": {},
   "outputs": [],
   "source": [
    "# Encontrar el perfume más caro y más barato\n",
    "max_price = df.loc[df['price'].idxmax(), ['brand', 'price']]\n",
    "min_price = df.loc[df['price'].idxmin(), ['brand', 'price']]\n",
    "\n",
    "# Crear DataFrame de comparación\n",
    "price_comparison = pd.DataFrame({\n",
    "    'Marca más cara': [max_price['brand']],\n",
    "    'Precio más alto': [max_price['price']],\n",
    "    'Marca más barata': [min_price['brand']],\n",
    "    'Precio más bajo': [min_price['price']]\n",
    "})\n",
    "price_comparison\n"
   ]
  },
  {
   "cell_type": "markdown",
   "id": "23ea833a",
   "metadata": {},
   "source": [
    "## 2. Precio Promedio por Tipo de Perfume"
   ]
  },
  {
   "cell_type": "code",
   "execution_count": null,
   "id": "875ead97",
   "metadata": {},
   "outputs": [],
   "source": [
    "# Calcular el precio promedio por tipo de perfume\n",
    "avg_price_by_type = df.groupby('type')['price'].mean().reset_index()\n",
    "avg_price_by_type\n"
   ]
  },
  {
   "cell_type": "markdown",
   "id": "04420e57",
   "metadata": {},
   "source": [
    "## 3. Perfume Más Vendido vs. Menos Vendido"
   ]
  },
  {
   "cell_type": "code",
   "execution_count": null,
   "id": "723a3e62",
   "metadata": {},
   "outputs": [],
   "source": [
    "# Encontrar el perfume más vendido y el menos vendido\n",
    "max_sold = df.loc[df['sold'].idxmax(), ['title', 'sold']]\n",
    "min_sold = df.loc[df['sold'].idxmin(), ['title', 'sold']]\n",
    "\n",
    "# Crear DataFrame de comparación de ventas\n",
    "sales_comparison = pd.DataFrame({\n",
    "    'Perfume más vendido': [max_sold['title']],\n",
    "    'Ventas': [max_sold['sold']],\n",
    "    'Perfume menos vendido': [min_sold['title']],\n",
    "    'Ventas': [min_sold['sold']]\n",
    "})\n",
    "sales_comparison\n"
   ]
  },
  {
   "cell_type": "markdown",
   "id": "bd6a2fcd",
   "metadata": {},
   "source": [
    "## 4. Comparación de Precios entre Marcas Populares (Dior vs. Giorgio Armani)"
   ]
  },
  {
   "cell_type": "code",
   "execution_count": null,
   "id": "3b56dd77",
   "metadata": {},
   "outputs": [],
   "source": [
    "# Comparar precios entre marcas específicas (Dior y Giorgio Armani)\n",
    "selected_brands = df[df['brand'].isin(['Dior', 'Giorgio Armani'])][['brand', 'title', 'price']]\n",
    "selected_brands\n"
   ]
  }
 ],
 "metadata": {},
 "nbformat": 4,
 "nbformat_minor": 5
}