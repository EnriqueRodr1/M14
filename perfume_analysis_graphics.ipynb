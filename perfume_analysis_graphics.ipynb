{
 "cells": [
  {
   "cell_type": "markdown",
   "id": "bd0100af",
   "metadata": {},
   "source": [
    "# Análisis de Perfumes en eBay\n",
    "Este notebook realiza comparaciones visuales entre perfumes disponibles en eBay."
   ]
  },
  {
   "cell_type": "code",
   "execution_count": null,
   "id": "ff842fe8",
   "metadata": {},
   "outputs": [],
   "source": [
    "import pandas as pd\n",
    "import matplotlib.pyplot as plt\n",
    "import seaborn as sns\n",
    "\n",
    "# Cargar el archivo CSV\n",
    "file_path = \"ebay_mens_perfume.csv\"  # Asegúrate de ubicar el archivo correctamente\n",
    "df = pd.read_csv(file_path)\n",
    "\n",
    "# Configuración de estilo de gráficos\n",
    "sns.set(style=\"whitegrid\")\n",
    "\n",
    "# Mostrar las primeras filas para entender la estructura\n",
    "df.head()\n"
   ]
  },
  {
   "cell_type": "markdown",
   "id": "43a7388b",
   "metadata": {},
   "source": [
    "## 1. Marca con el Perfume Más Caro vs. Más Barato"
   ]
  },
  {
   "cell_type": "code",
   "execution_count": null,
   "id": "bc7cef3d",
   "metadata": {},
   "outputs": [],
   "source": [
    "# Encontrar el perfume más caro y más barato\n",
    "max_price = df.loc[df['price'].idxmax(), ['brand', 'price']]\n",
    "min_price = df.loc[df['price'].idxmin(), ['brand', 'price']]\n",
    "\n",
    "# Crear DataFrame de comparación\n",
    "price_comparison = pd.DataFrame({\n",
    "    'Marca': [max_price['brand'], min_price['brand']],\n",
    "    'Precio': [max_price['price'], min_price['price']]\n",
    "})\n",
    "\n",
    "# Gráfico de comparación de precios\n",
    "plt.figure(figsize=(8, 5))\n",
    "sns.barplot(x='Marca', y='Precio', data=price_comparison, palette='coolwarm')\n",
    "plt.title(\"Comparación de Precios: Perfume Más Caro vs. Más Barato\")\n",
    "plt.ylabel(\"Precio (USD)\")\n",
    "plt.show()\n"
   ]
  },
  {
   "cell_type": "markdown",
   "id": "7cf211d9",
   "metadata": {},
   "source": [
    "## 2. Precio Promedio por Tipo de Perfume"
   ]
  },
  {
   "cell_type": "code",
   "execution_count": null,
   "id": "a11c13cb",
   "metadata": {},
   "outputs": [],
   "source": [
    "# Calcular el precio promedio por tipo de perfume\n",
    "avg_price_by_type = df.groupby('type')['price'].mean().reset_index()\n",
    "\n",
    "# Gráfico de precio promedio por tipo de perfume\n",
    "plt.figure(figsize=(8, 5))\n",
    "sns.barplot(x='type', y='price', data=avg_price_by_type, palette='viridis')\n",
    "plt.title(\"Precio Promedio por Tipo de Perfume\")\n",
    "plt.xlabel(\"Tipo de Perfume\")\n",
    "plt.ylabel(\"Precio Promedio (USD)\")\n",
    "plt.xticks(rotation=45)\n",
    "plt.show()\n"
   ]
  },
  {
   "cell_type": "markdown",
   "id": "f26477a7",
   "metadata": {},
   "source": [
    "## 3. Perfume Más Vendido vs. Menos Vendido"
   ]
  },
  {
   "cell_type": "code",
   "execution_count": null,
   "id": "e5eea804",
   "metadata": {},
   "outputs": [],
   "source": [
    "# Encontrar el perfume más vendido y el menos vendido\n",
    "max_sold = df.loc[df['sold'].idxmax(), ['title', 'sold']]\n",
    "min_sold = df.loc[df['sold'].idxmin(), ['title', 'sold']]\n",
    "\n",
    "# Crear DataFrame de comparación de ventas\n",
    "sales_comparison = pd.DataFrame({\n",
    "    'Perfume': [max_sold['title'], min_sold['title']],\n",
    "    'Ventas': [max_sold['sold'], min_sold['sold']]\n",
    "})\n",
    "\n",
    "# Gráfico de comparación de ventas\n",
    "plt.figure(figsize=(10, 5))\n",
    "sns.barplot(x='Perfume', y='Ventas', data=sales_comparison, palette='magma')\n",
    "plt.title(\"Perfume Más Vendido vs. Menos Vendido\")\n",
    "plt.ylabel(\"Cantidad Vendida\")\n",
    "plt.xticks(rotation=45, ha='right')\n",
    "plt.show()\n"
   ]
  },
  {
   "cell_type": "markdown",
   "id": "96817d72",
   "metadata": {},
   "source": [
    "## 4. Comparación de Precios entre Marcas Populares (Dior vs. Giorgio Armani)"
   ]
  },
  {
   "cell_type": "code",
   "execution_count": null,
   "id": "319ba982",
   "metadata": {},
   "outputs": [],
   "source": [
    "# Comparar precios entre marcas específicas (Dior y Giorgio Armani)\n",
    "selected_brands = df[df['brand'].isin(['Dior', 'Giorgio Armani'])][['brand', 'title', 'price']]\n",
    "\n",
    "# Gráfico de comparación de precios entre marcas\n",
    "plt.figure(figsize=(8, 5))\n",
    "sns.boxplot(x='brand', y='price', data=selected_brands, palette='Set2')\n",
    "plt.title(\"Comparación de Precios entre Dior y Giorgio Armani\")\n",
    "plt.xlabel(\"Marca\")\n",
    "plt.ylabel(\"Precio (USD)\")\n",
    "plt.show()\n"
   ]
  }
 ],
 "metadata": {},
 "nbformat": 4,
 "nbformat_minor": 5
}